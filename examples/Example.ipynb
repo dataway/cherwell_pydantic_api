{
 "cells": [
  {
   "cell_type": "markdown",
   "id": "fb326355-0c20-4d47-9138-8b06b1c9d5ef",
   "metadata": {
    "slideshow": {
     "slide_type": "slide"
    },
    "tags": [
     "init"
    ]
   },
   "source": [
    "# 🔰 Getting started with cherwell_pydantic_api\n",
    "\n",
    "## Step 1: create cherwell.env\n",
    "\n",
    "The `cherwell.env` file contains the URL of your Cherwell API endpoint along with the credentials needed.\n",
    "\n",
    "Use `cwcli` on the command line to create your `cherwell.env` file, and `cwcli check` to check connectivity.\n",
    "\n",
    "You can then proceed with this notebook. To get started, you can skip forward to the chapter **[Set up the business object filters](#bo_filter)**."
   ]
  },
  {
   "cell_type": "markdown",
   "id": "a4181284-9aea-450a-bffe-2bdc48d3a8ae",
   "metadata": {
    "jp-MarkdownHeadingCollapsed": true,
    "slideshow": {
     "slide_type": "slide"
    },
    "tags": [
     "init"
    ]
   },
   "source": [
    "### Set up the environment and connect to the API\n",
    "\n",
    "These cells set up the Jupyter notebook environment and the connection to the Cherwell API."
   ]
  },
  {
   "cell_type": "code",
   "execution_count": null,
   "id": "7528065f",
   "metadata": {
    "tags": [
     "init"
    ]
   },
   "outputs": [],
   "source": [
    "# The working directory is expected to contain the cherwell.env configuration file.\n",
    "# This implementation changes the working directory to the parent of the cherwell_pydantic_api package.\n",
    "# Alter it if your setup is different.\n",
    "\n",
    "import cherwell_pydantic_api\n",
    "homedir = cherwell_pydantic_api.__path__[0] + '/../'\n",
    "%cd $homedir"
   ]
  },
  {
   "cell_type": "code",
   "execution_count": null,
   "id": "a38af715-e323-42af-82f3-602c9870a204",
   "metadata": {
    "tags": [
     "init"
    ]
   },
   "outputs": [],
   "source": [
    "# The Interactive module converts async/await calls to sync calls, so that you don't have to type await all the time.\n",
    "# For this to work under Jupyter Notebook, the nest_asyncio module is required. (IPython on the console doesn't require this.)\n",
    "\n",
    "import nest_asyncio\n",
    "nest_asyncio.apply()\n",
    "\n",
    "%gui asyncio"
   ]
  },
  {
   "cell_type": "code",
   "execution_count": null,
   "id": "88d9ec4b-48d4-417a-ac3f-d92a64394cbe",
   "metadata": {
    "tags": [
     "init"
    ]
   },
   "outputs": [],
   "source": [
    "# Import some useful classes into the namespace.\n",
    "\n",
    "from cherwell_pydantic_api.bo.modelgen.repo import ModelRepo\n",
    "from cherwell_pydantic_api.instance import Instance\n",
    "from cherwell_pydantic_api.interactive import Interactive\n",
    "from cherwell_pydantic_api.settings import Settings\n",
    "\n",
    "\n",
    "# Set up the instance, repo and cw objects\n",
    "\n",
    "instance = Instance.use()\n",
    "repo = ModelRepo(create=True)\n",
    "print(f\"base_url={instance.settings.base_url}\")\n",
    "\n",
    "cw = Interactive(waiter=get_ipython().loop_runner)"
   ]
  },
  {
   "cell_type": "code",
   "execution_count": null,
   "id": "38c374c7-bfbe-4eab-a285-c5419de1a770",
   "metadata": {
    "tags": [
     "init"
    ]
   },
   "outputs": [],
   "source": [
    "# Authenticate to the API. This is the first actual HTTP callout. It might take a while if you are connecting to a sleeping test instance of Cherwell.\n",
    "\n",
    "print(\"Authenticating...\")\n",
    "%time cw.authenticate()"
   ]
  },
  {
   "cell_type": "markdown",
   "id": "2b000131-ccb4-42e0-8617-8d0eee6eac90",
   "metadata": {
    "tags": []
   },
   "source": [
    "## Set up the Collector\n",
    "\n",
    "The `Collector` object collects Business Object schemas in preparation for Pydantic model generation.\n",
    "\n",
    "This part of the notebook allows you to interactively choose which schemas you wish to model."
   ]
  },
  {
   "cell_type": "markdown",
   "id": "982e4ac1-42e2-4ad9-a459-5e7c81db88db",
   "metadata": {
    "jp-MarkdownHeadingCollapsed": true,
    "tags": []
   },
   "source": [
    "### Setup widgets"
   ]
  },
  {
   "cell_type": "code",
   "execution_count": null,
   "id": "d0752589-7ddc-4301-93f0-3a86c0cb6c32",
   "metadata": {
    "tags": []
   },
   "outputs": [],
   "source": [
    "# Prepare some widgets for the datagrids below.\n",
    "\n",
    "import ipywidgets\n",
    "from ipydatagrid import DataGrid, VegaExpr, TextRenderer\n",
    "from pandas import DataFrame\n",
    "\n",
    "renderer_verdict = TextRenderer(\n",
    "    background_color = VegaExpr(\"cell.metadata.data['verdict'] ? 'lightgreen' : ''\")\n",
    ")\n",
    "renderer_bool = TextRenderer(\n",
    "    text_value = VegaExpr(\"\"\"isValid(cell.value) ? (cell.value === true ? 'TRUE' : cell.value === false ? 'false' : cell.value) : '(None)'\"\"\"),\n",
    "    background_color = VegaExpr(\"isValid(cell.value) ? (cell.value ? 'lightgreen' : 'lightpink') : 'gainsboro'\")\n",
    ")\n",
    "renderers = {\n",
    "    'name': renderer_verdict,\n",
    "    'verdict': renderer_bool,\n",
    "    'num_fields': renderer_bool,\n",
    "    'lookup': renderer_bool,\n",
    "    'major': renderer_bool,\n",
    "    'supporting': renderer_bool,\n",
    "}"
   ]
  },
  {
   "cell_type": "code",
   "execution_count": null,
   "id": "76e324ef-34ea-4fa0-a561-c76b0091f49e",
   "metadata": {
    "tags": []
   },
   "outputs": [],
   "source": [
    "# Create the Collector object and async_wrap it in the cw Interactive instance.\n",
    "\n",
    "from cherwell_pydantic_api.bo.modelgen.collector import Collector\n",
    "\n",
    "cw.async_wrap(collector=Collector(instance, verbose=False))"
   ]
  },
  {
   "cell_type": "code",
   "execution_count": null,
   "id": "ffe295fd-b2a5-4799-8493-30fae409c7ba",
   "metadata": {
    "tags": []
   },
   "outputs": [],
   "source": [
    "bo_data = None\n",
    "bo_datagrid = None\n",
    "\n",
    "################\n",
    "# Set up widgets\n",
    "\n",
    "filter_checkbox = ipywidgets.Checkbox(description='Filter by verdict')\n",
    "def filter_change(change):\n",
    "    transforms = [{'type': 'sort', 'columnIndex': 1, 'desc': False}]\n",
    "    if filter_checkbox.value:\n",
    "        transforms.append({\"type\": \"filter\", \"columnIndex\": 2, \"operator\": \"in\", \"value\": [True]})\n",
    "    bo_datagrid.transform(transforms)\n",
    "filter_checkbox.observe(filter_change, names='value')\n",
    "status_output = ipywidgets.Output(layout={'border': '2px solid orange'})\n",
    "\n",
    "################\n",
    "# Run the collector and set up the datagrid if it doesn't already exist, otherwise update it (reduce flickering)\n",
    "\n",
    "def collect(include_filter, exclude_filter):\n",
    "    global bo_data, bo_datagrid, status_output\n",
    "    cw.collector.bo_include_filter = include_filter\n",
    "    cw.collector.bo_exclude_filter = exclude_filter\n",
    "    print(\"Collector loading data...\")\n",
    "    cw.collector.collect()\n",
    "    print(f\"OK, received {len(cw.collector.items)} summaries and {len([i for i in cw.collector.items if i.schema])} full schemas\")\n",
    "    bo_data = DataFrame([i.to_dict() for i in cw.collector.items], copy=False).set_index('busobid')\n",
    "    if bo_datagrid is None:\n",
    "        bo_datagrid = DataGrid(bo_data, renderers=renderers, selection_mode='row', column_widths={'name': 280, 'bo_type': 90, 'displayName': 350})\n",
    "        bo_datagrid.transform([{'type': 'sort', 'columnIndex': 1, 'desc': False}])\n",
    "    else:\n",
    "        bo_datagrid.data = bo_data\n",
    "\n",
    "collect(None, None);"
   ]
  },
  {
   "cell_type": "markdown",
   "id": "eaf5d715-c355-4aae-8826-18fe32f91089",
   "metadata": {
    "tags": []
   },
   "source": [
    "<a id=\"bo_filter\"></a>\n",
    "### Set up the business object filters\n",
    "\n",
    "In the following cell, edit the `bo_include_filter` and `bo_exclude_filter` regexes so that the table includes all the business objects that you wish to model.\n",
    "They can be strings or re.Pattern objects."
   ]
  },
  {
   "cell_type": "code",
   "execution_count": null,
   "id": "9b209852-3aa6-49cb-b404-bcc299418f0f",
   "metadata": {
    "tags": []
   },
   "outputs": [],
   "source": [
    "### EDIT THESE TWO VALUES ###\n",
    "\n",
    "bo_include_filter = r'(?i)ticket$|conf'\n",
    "bo_exclude_filter = r''\n",
    "\n",
    "############################################################################################\n",
    "# If the cell below this one has been run, the table should update if you execute this cell.\n",
    "\n",
    "status_output.clear_output()\n",
    "with status_output:\n",
    "    print(f\"{bo_include_filter=!r}\")\n",
    "    print(f\"{bo_exclude_filter=!r}\")\n",
    "    collect(bo_include_filter, bo_exclude_filter);\n"
   ]
  },
  {
   "cell_type": "code",
   "execution_count": null,
   "id": "7bc31fd7-cb55-41bf-9d82-266d006c528a",
   "metadata": {
    "tags": []
   },
   "outputs": [],
   "source": [
    "# Display the collector output in a data grid. The collect() function updates it dynamically\n",
    "\n",
    "ipywidgets.VBox([status_output, filter_checkbox, bo_datagrid])"
   ]
  }
 ],
 "metadata": {
  "celltoolbar": "Raw Cell Format",
  "kernelspec": {
   "display_name": "Python 3 (ipykernel)",
   "language": "python",
   "name": "python3"
  },
  "language_info": {
   "codemirror_mode": {
    "name": "ipython",
    "version": 3
   },
   "file_extension": ".py",
   "mimetype": "text/x-python",
   "name": "python",
   "nbconvert_exporter": "python",
   "pygments_lexer": "ipython3",
   "version": "3.9.16"
  }
 },
 "nbformat": 4,
 "nbformat_minor": 5
}
