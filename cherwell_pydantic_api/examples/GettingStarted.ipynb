{
 "cells": [
  {
   "cell_type": "markdown",
   "id": "fb326355-0c20-4d47-9138-8b06b1c9d5ef",
   "metadata": {
    "slideshow": {
     "slide_type": "slide"
    },
    "tags": [
     "init"
    ]
   },
   "source": [
    "# 🔰 Getting started with cherwell_pydantic_api\n",
    "\n",
    "## Step 1: create cherwell.env\n",
    "\n",
    "The `cherwell.env` file contains the URL of your Cherwell API endpoint along with the credentials needed.\n",
    "\n",
    "Use `cwcli` on the command line to create your `cherwell.env` file, and `cwcli check` to check connectivity.\n",
    "\n",
    "## Step 2: Set up the business object filters\n",
    "\n",
    "You can then proceed with this notebook. To get started, you can skip forward to the chapter **[Set up the business object filters](#bo_filter)**."
   ]
  },
  {
   "cell_type": "markdown",
   "id": "f4ea1233-8a26-41b2-995b-d90674f1da84",
   "metadata": {
    "jp-MarkdownHeadingCollapsed": true,
    "tags": []
   },
   "source": [
    "## (Boilerplate cells)"
   ]
  },
  {
   "cell_type": "markdown",
   "id": "a4181284-9aea-450a-bffe-2bdc48d3a8ae",
   "metadata": {
    "slideshow": {
     "slide_type": "slide"
    },
    "tags": [
     "init"
    ]
   },
   "source": [
    "### Set up the environment and connect to the API\n",
    "\n",
    "These cells set up the Jupyter notebook environment and the connection to the Cherwell API."
   ]
  },
  {
   "cell_type": "code",
   "execution_count": null,
   "id": "7528065f",
   "metadata": {
    "tags": [
     "init"
    ]
   },
   "outputs": [],
   "source": [
    "# The working directory is expected to contain the cherwell.env configuration file.\n",
    "# This implementation changes the working directory to the parent of the cherwell_pydantic_api package.\n",
    "# Alter it if your setup is different.\n",
    "\n",
    "import cherwell_pydantic_api\n",
    "homedir = cherwell_pydantic_api.__path__[0] + '/../'\n",
    "%cd $homedir"
   ]
  },
  {
   "cell_type": "code",
   "execution_count": null,
   "id": "a38af715-e323-42af-82f3-602c9870a204",
   "metadata": {
    "tags": [
     "init"
    ]
   },
   "outputs": [],
   "source": [
    "# The Interactive module converts async/await calls to sync calls, so that you don't have to type await all the time.\n",
    "# For this to work under Jupyter Notebook, the nest_asyncio module is required. (IPython on the console doesn't require this.)\n",
    "\n",
    "import nest_asyncio\n",
    "nest_asyncio.apply()\n",
    "\n",
    "%gui asyncio"
   ]
  },
  {
   "cell_type": "code",
   "execution_count": null,
   "id": "88d9ec4b-48d4-417a-ac3f-d92a64394cbe",
   "metadata": {
    "tags": [
     "init"
    ]
   },
   "outputs": [],
   "source": [
    "# Import some useful classes into the namespace.\n",
    "\n",
    "from cherwell_pydantic_api.bo.modelgen.repo import ModelRepo\n",
    "from cherwell_pydantic_api.instance import Instance\n",
    "from cherwell_pydantic_api.interactive import Interactive\n",
    "from cherwell_pydantic_api.settings import Settings\n",
    "\n",
    "\n",
    "# Set up the instance, repo and cw objects\n",
    "\n",
    "instance = Instance.use()\n",
    "print(f\"base_url={instance.settings.base_url}\")\n",
    "\n",
    "cw = Interactive(waiter=get_ipython().loop_runner)"
   ]
  },
  {
   "cell_type": "code",
   "execution_count": null,
   "id": "38c374c7-bfbe-4eab-a285-c5419de1a770",
   "metadata": {
    "tags": [
     "init"
    ]
   },
   "outputs": [],
   "source": [
    "# Authenticate to the API. This is the first actual HTTP callout. It might take a while if you are connecting to a sleeping test instance of Cherwell.\n",
    "\n",
    "print(\"Authenticating...\")\n",
    "%time cw.authenticate()"
   ]
  },
  {
   "cell_type": "markdown",
   "id": "2b000131-ccb4-42e0-8617-8d0eee6eac90",
   "metadata": {
    "tags": []
   },
   "source": [
    "### Set up the Collector\n",
    "\n",
    "The `Collector` object collects Business Object schemas in preparation for Pydantic model generation.\n",
    "\n",
    "This part of the notebook sets up widgets to make it easy to see the selected schemas that will be used."
   ]
  },
  {
   "cell_type": "code",
   "execution_count": null,
   "id": "76e324ef-34ea-4fa0-a561-c76b0091f49e",
   "metadata": {
    "tags": []
   },
   "outputs": [],
   "source": [
    "# Create the Collector object and async_wrap it in the cw Interactive instance.\n",
    "\n",
    "from cherwell_pydantic_api.bo.modelgen.collector import Collector\n",
    "\n",
    "cw.async_wrap(collector=Collector(instance, verbose=False))"
   ]
  },
  {
   "cell_type": "code",
   "execution_count": null,
   "id": "ffe295fd-b2a5-4799-8493-30fae409c7ba",
   "metadata": {
    "tags": []
   },
   "outputs": [],
   "source": [
    "# Prepare some widgets for the datagrids below.\n",
    "\n",
    "import ipywidgets\n",
    "from ipyaggrid import Grid\n",
    "\n",
    "status_output = ipywidgets.Output(layout={'border': '2px solid orange'})\n",
    "\n",
    "\n",
    "#############################\n",
    "## Set up bo_datagrid\n",
    "\n",
    "datagrid_css = '''\n",
    ".datagrid-verdict-true {\n",
    "}\n",
    ".datagrid-verdict-true::before {\n",
    "    content: \"\";\n",
    "    background-color: palegreen;\n",
    "    position: absolute;\n",
    "    right: 0;\n",
    "    z-index: -10;\n",
    "    width: 25%;\n",
    "    height: 100%;\n",
    "}\n",
    ".datagrid-true {\n",
    "    background-color: lightgreen;\n",
    "}\n",
    ".datagrid-false {\n",
    "    background-color: lightpink;\n",
    "}\n",
    "'''\n",
    "\n",
    "bo_column_defs = [\n",
    "    {'field': 'name', 'sort': 'asc', 'type': 'style_verdict'},\n",
    "    {'field': 'busobid', 'type': 'style_verdict'},\n",
    "    {'field': 'verdict', 'type': 'bool'},\n",
    "    {'field': 'bo_type', 'filter': True},\n",
    "    {'field': 'num_fields'},\n",
    "    {'field': 'displayName'},\n",
    "    {'field': 'lookup', 'type': 'bool'},\n",
    "    {'field': 'major', 'type': 'bool'},\n",
    "    {'field': 'supporting', 'type': 'bool'},\n",
    "    {'field': 'parent_name', 'filter': True},\n",
    "]\n",
    "bo_grid_options = {\n",
    "    'columnDefs' : bo_column_defs,\n",
    "    'rowSelection': 'single',\n",
    "    'defaultColDef': {\n",
    "        'sortable': True\n",
    "    },\n",
    "    'columnTypes': {\n",
    "        'bool': {\n",
    "            'filter': True,\n",
    "            'floatingFilter': True,\n",
    "            'cellClassRules': {\n",
    "                'datagrid-true': 'x',\n",
    "                'datagrid-false': '!x'\n",
    "            }\n",
    "        },\n",
    "        'style_verdict': {\n",
    "            'cellClassRules': {\n",
    "                'datagrid-verdict-true': 'data.verdict'\n",
    "            }\n",
    "        }\n",
    "    }\n",
    "}\n",
    "bo_datagrid = Grid(grid_data=[], grid_options=bo_grid_options,\n",
    "                   columns_fit='auto', quick_filter=True, css_rules=datagrid_css,\n",
    "                   export_mode='auto', export_to_df=False,\n",
    "                   menu={'buttons': [\n",
    "                    {'name': 'verdict true', 'action': '''gridOptions.api.getFilterInstance('verdict').setModel({values: ['true']}); gridOptions.api.onFilterChanged();'''},\n",
    "                    {'name': 'clear verdict', 'action': '''gridOptions.api.destroyFilter('verdict')'''},\n",
    "                   ]})\n",
    "\n",
    "\n",
    "#############################\n",
    "## Set up fld_datagrid\n",
    "\n",
    "fld_column_defs = [\n",
    "    {'field': 'name', 'sort': 'asc'},\n",
    "    {'field': 'type', 'filter': True},\n",
    "    {'field': 'short_field_id'},\n",
    "    {'field': 'identifier', 'filter': True},\n",
    "    {'field': 'fieldId'},\n",
    "    {'field': 'type', 'filter': True},\n",
    "    {'field': 'description', 'filter': True},\n",
    "    {'field': 'category', 'filter': True},\n",
    "    {'field': 'calculated', 'type': 'bool'},\n",
    "    {'field': 'enabled', 'type': 'bool'},\n",
    "    {'field': 'required', 'type': 'bool'},\n",
    "]\n",
    "fld_grid_options = {\n",
    "    'columnDefs' : fld_column_defs,\n",
    "    'defaultColDef': {\n",
    "        'sortable': True\n",
    "    },\n",
    "    'columnTypes': {\n",
    "        'bool': {\n",
    "            'filter': True,\n",
    "            'floatingFilter': True,\n",
    "            'cellClassRules': {\n",
    "                'datagrid-true': 'x',\n",
    "                'datagrid-false': '!x'\n",
    "            }\n",
    "        },\n",
    "    }\n",
    "}\n",
    "\n",
    "fld_datagrid = Grid(grid_data=[], grid_options=fld_grid_options,\n",
    "                    columns_fit='auto', quick_filter=True, css_rules=datagrid_css)\n",
    "\n",
    "\n",
    "\n",
    "##############################\n",
    "# Set up interactivity\n",
    "\n",
    "def datagrid_change(change):\n",
    "    global cw, bo_datagrid, fld_datagrid, status_output\n",
    "    if 'rows' not in bo_datagrid.grid_data_out:\n",
    "        return None\n",
    "    busobid = bo_datagrid.grid_data_out['rows'][0]['busobid']\n",
    "    try:\n",
    "        flds = cw.bo.get_schema(busobid).fieldDefinitions\n",
    "        fld_datagrid.update_grid_data([vars(fld) for fld in flds])\n",
    "    except Exception as e:\n",
    "        fld_datagrid.update_grid_data([])\n",
    "     \n",
    "\n",
    "bo_datagrid.observe(datagrid_change, 'grid_data_out')\n",
    "\n",
    "\n",
    "##############################################\n",
    "# Run the collector and update the datagrid\n",
    "\n",
    "def collect(include_filter, exclude_filter):\n",
    "    global cw, bo_datagrid, status_output\n",
    "    cw.collector.bo_include_filter = include_filter\n",
    "    cw.collector.bo_exclude_filter = exclude_filter\n",
    "    print(\"Collector loading data...\")\n",
    "    cw.collector.collect()\n",
    "    print(f\"OK, received {len(cw.collector.items)} summaries and {len([i for i in cw.collector.items if i.schema])} full schemas\")\n",
    "    bo_datagrid.update_grid_data([i.to_dict() for i in cw.collector.items])\n",
    "\n",
    "collect(None, None);"
   ]
  },
  {
   "cell_type": "markdown",
   "id": "eaf5d715-c355-4aae-8826-18fe32f91089",
   "metadata": {
    "tags": []
   },
   "source": [
    "<a id=\"bo_filter\"></a>\n",
    "## Set up the business object filters\n",
    "\n",
    "In the following cell, edit the `bo_include_filter` and `bo_exclude_filter` regexes so that the table includes all the business objects that you wish to model.\n",
    "They can be strings or re.Pattern objects."
   ]
  },
  {
   "cell_type": "code",
   "execution_count": null,
   "id": "9b209852-3aa6-49cb-b404-bcc299418f0f",
   "metadata": {
    "tags": []
   },
   "outputs": [],
   "source": [
    "### EDIT THESE TWO VALUES ###\n",
    "\n",
    "bo_include_filter = r'(?i)ticket$|config|changerequest$'\n",
    "bo_exclude_filter = r''\n",
    "\n",
    "############################################################################################\n",
    "# If the cell below this one has been run, the table should update if you execute this cell.\n",
    "\n",
    "status_output.clear_output()\n",
    "with status_output:\n",
    "    print(f\"{bo_include_filter=!r}\")\n",
    "    print(f\"{bo_exclude_filter=!r}\")\n",
    "    collect(bo_include_filter, bo_exclude_filter);\n"
   ]
  },
  {
   "cell_type": "code",
   "execution_count": null,
   "id": "7bc31fd7-cb55-41bf-9d82-266d006c528a",
   "metadata": {
    "jupyter": {
     "source_hidden": true
    },
    "tags": []
   },
   "outputs": [],
   "source": [
    "# Display the collector output in a data grid. The collect() function updates it dynamically\n",
    "\n",
    "ipywidgets.VBox([status_output,\n",
    "                 ipywidgets.HTML(\"<h3>Business objects</h3>Business objects matching the filter will be indicated by the Verdict field being True. Click on the <b>verdict true</b> button to filter them. If the verdict is true, the <b>num_fields</b> column will show the number of fields, and you can select the row to examine each field below.\"),\n",
    "                 bo_datagrid,\n",
    "                 ipywidgets.HTML(\"<h3>Business object fields</h3>If a matching business object is selected above, the following table will display the fields.\"),\n",
    "                 fld_datagrid])"
   ]
  },
  {
   "cell_type": "markdown",
   "id": "04bb3a25-d36b-4ce1-8f2d-0de6f771230e",
   "metadata": {},
   "source": [
    "## Step 3. Save the business object descriptions to your repository\n",
    "\n",
    "Once you are happy with the business object filters, you can save the descriptions in your repository."
   ]
  },
  {
   "cell_type": "code",
   "execution_count": null,
   "id": "914f23c9-7ce2-4fae-a80a-a6591883b217",
   "metadata": {
    "tags": []
   },
   "outputs": [],
   "source": [
    "# Print a list of the Business Objects that will be saved.\n",
    "\n",
    "print(\"The following Business Objects will be saved to the repository.\")\n",
    "bo_list = [item.name for item in cw.collector.items if item.verdict]\n",
    "bo_list.sort()\n",
    "bo_list"
   ]
  },
  {
   "cell_type": "code",
   "execution_count": null,
   "id": "915950f8-3935-4af6-9282-f75b0a35ddfa",
   "metadata": {
    "tags": []
   },
   "outputs": [],
   "source": [
    "# Create the repository if it doesn't already exist\n",
    "\n",
    "repo = ModelRepo(create=True)\n",
    "print(f\"Repository directory: {repo.directory} ; instance subpackage: {instance.settings.get_repo_subpackage()} ; instance branch: {instance.settings.get_repo_branch()}\")"
   ]
  },
  {
   "cell_type": "code",
   "execution_count": null,
   "id": "1486b804-12f7-4095-95f1-42dcea1eede6",
   "metadata": {
    "tags": []
   },
   "outputs": [],
   "source": [
    "# Save the business object registry\n",
    "\n",
    "repo.save_instance(instance)"
   ]
  },
  {
   "cell_type": "markdown",
   "id": "0ec398c7-2c16-431c-bbd6-2abb2a1a3098",
   "metadata": {},
   "source": [
    "## Step 4. Generate Pydantic models and save them in your repository\n",
    "\n",
    "You can now generate Pydantic models for the selected business objects."
   ]
  },
  {
   "cell_type": "code",
   "execution_count": null,
   "id": "f4ab3766-5400-49f7-937c-86e9331ee7c3",
   "metadata": {
    "tags": []
   },
   "outputs": [],
   "source": [
    "# Generate Pydantic models, and commit them in the repository.\n",
    "\n",
    "cw.collector.save_models(repo)"
   ]
  },
  {
   "cell_type": "markdown",
   "id": "a27bfc23-db70-464f-aa7f-8d0ec4265c76",
   "metadata": {},
   "source": [
    "You can also save the collector settings (the `bo_include_filter` and `bo_exclude_filter` values set previously) in the repository. This allows the models to be updated automatically with the `cwcli repo update` command."
   ]
  },
  {
   "cell_type": "code",
   "execution_count": null,
   "id": "7dc0595a-69ca-4a61-8162-1dd1b126c3be",
   "metadata": {
    "tags": []
   },
   "outputs": [],
   "source": [
    "# Save the collector settings in the repository\n",
    "\n",
    "cw.collector.save_settings(repo)"
   ]
  }
 ],
 "metadata": {
  "celltoolbar": "Raw Cell Format",
  "kernelspec": {
   "display_name": "Python 3 (ipykernel)",
   "language": "python",
   "name": "python3"
  },
  "language_info": {
   "codemirror_mode": {
    "name": "ipython",
    "version": 3
   },
   "file_extension": ".py",
   "mimetype": "text/x-python",
   "name": "python",
   "nbconvert_exporter": "python",
   "pygments_lexer": "ipython3",
   "version": "3.9.16"
  }
 },
 "nbformat": 4,
 "nbformat_minor": 5
}
